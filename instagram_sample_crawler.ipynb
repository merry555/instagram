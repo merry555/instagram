{
 "cells": [
  {
   "cell_type": "code",
   "execution_count": 133,
   "metadata": {},
   "outputs": [],
   "source": [
    "import time\n",
    "import urllib.request\n",
    "from urllib.request import urlopen\n",
    "import requests\n",
    "from selenium import webdriver\n",
    "from bs4 import BeautifulSoup\n",
    "import random\n",
    "from urllib.error import HTTPError\n",
    "from selenium.common.exceptions import NoSuchElementException\n",
    "import re\n",
    "import numpy as np\n",
    "from selenium.webdriver.chrome.options import Options\n",
    "import pymysql\n",
    "import os\n",
    "from openpyxl import Workbook"
   ]
  },
  {
   "cell_type": "code",
   "execution_count": 134,
   "metadata": {},
   "outputs": [],
   "source": [
    "#수집하고 싶은 태그명\n",
    "tag = '우울'\n",
    "\n",
    "#이미지 저장 폴더 경로 입력\n",
    "directory = \"./우울/\""
   ]
  },
  {
   "cell_type": "code",
   "execution_count": 135,
   "metadata": {
    "scrolled": true
   },
   "outputs": [
    {
     "name": "stderr",
     "output_type": "stream",
     "text": [
      "D:\\Anaconda3\\lib\\site-packages\\ipykernel_launcher.py:8: DeprecationWarning: use options instead of chrome_options\n",
      "  \n"
     ]
    }
   ],
   "source": [
    "options = Options()\n",
    "# chrome을 전체화면으로 넓히는 옵션입니다.\n",
    "options.add_argument('--start-fullscreen')\n",
    "\n",
    "url = \"https://www.instagram.com/explore/tags/\" + tag + \"/\" #행복스타그램,감동\n",
    "\n",
    "# executable_path에는 chromedriver 실행 파일의 경로를 넣고, chrome_options에는 options 변수를 넣습니다.\n",
    "driver = webdriver.Chrome(executable_path='./chromedriver', chrome_options=options)\n",
    "driver.implicitly_wait(3)\n",
    "driver.get(url)"
   ]
  },
  {
   "cell_type": "code",
   "execution_count": 136,
   "metadata": {
    "scrolled": false
   },
   "outputs": [
    {
     "name": "stdout",
     "output_type": "stream",
     "text": [
      "56 번째 페이지 삭제됨\n",
      "90 번째 페이지 삭제됨\n",
      "100\n",
      "112 번째 페이지 삭제됨\n",
      "200\n",
      "300\n"
     ]
    },
    {
     "ename": "KeyboardInterrupt",
     "evalue": "",
     "output_type": "error",
     "traceback": [
      "\u001b[1;31m---------------------------------------------------------------------------\u001b[0m",
      "\u001b[1;31mKeyboardInterrupt\u001b[0m                         Traceback (most recent call last)",
      "\u001b[1;32m<ipython-input-136-2bcf1620a2c9>\u001b[0m in \u001b[0;36m<module>\u001b[1;34m\u001b[0m\n\u001b[0;32m     88\u001b[0m \u001b[1;33m\u001b[0m\u001b[0m\n\u001b[0;32m     89\u001b[0m     \u001b[0mdriver\u001b[0m\u001b[1;33m.\u001b[0m\u001b[0mexecute_script\u001b[0m\u001b[1;33m(\u001b[0m\u001b[1;34m'arguments[0].scrollIntoView(true);'\u001b[0m\u001b[1;33m,\u001b[0m\u001b[0mbottom\u001b[0m\u001b[1;33m)\u001b[0m\u001b[1;33m\u001b[0m\u001b[1;33m\u001b[0m\u001b[0m\n\u001b[1;32m---> 90\u001b[1;33m     \u001b[0mtime\u001b[0m\u001b[1;33m.\u001b[0m\u001b[0msleep\u001b[0m\u001b[1;33m(\u001b[0m\u001b[1;36m3\u001b[0m\u001b[1;33m)\u001b[0m\u001b[1;33m\u001b[0m\u001b[1;33m\u001b[0m\u001b[0m\n\u001b[0m\u001b[0;32m     91\u001b[0m     \u001b[0mpagedown\u001b[0m \u001b[1;33m+=\u001b[0m \u001b[1;36m1\u001b[0m\u001b[1;33m\u001b[0m\u001b[1;33m\u001b[0m\u001b[0m\n\u001b[0;32m     92\u001b[0m \u001b[1;33m\u001b[0m\u001b[0m\n",
      "\u001b[1;31mKeyboardInterrupt\u001b[0m: "
     ]
    }
   ],
   "source": [
    "result = []\n",
    "pagedown = 0\n",
    "post_num = 1\n",
    "collect_driver = webdriver.Chrome()\n",
    "while True: #끝까지 내릴부분을 찾아라\n",
    "    bottom = driver.find_element_by_class_name('ixdEe')\n",
    "    soup = BeautifulSoup(driver.page_source, 'html.parser')\n",
    "    source = soup.find_all('div',{'class':'v1Nh3 kIKUG _bz0w'})\n",
    "    #source = np.array(source)\n",
    "    \n",
    "    if pagedown == 0:\n",
    "        source = source[9:33]\n",
    "    elif pagedown == 1:\n",
    "        source = source[33:45]\n",
    "    elif pagedown == 2:\n",
    "        source = source[42:54]\n",
    "    else:\n",
    "        source = source[42:]\n",
    "         \n",
    "    for i in range(len(source)):\n",
    "        if(source[i].find('img').get('alt') is not None):\n",
    "            if('사람' in source[i].find('img').get('alt')):\n",
    "                try:\n",
    "                    collect_driver.implicitly_wait(3)\n",
    "                    #페이지 열기\n",
    "                    collect_driver.get('https://www.instagram.com' + (source[i].find(\"a\")).get('href'))\n",
    "                    #페이지 소스 가져오기\n",
    "                    collect_soup = BeautifulSoup(collect_driver.page_source,'html.parser')\n",
    "                    #게시글 작성자 이름\n",
    "                    user_id = collect_driver.find_element_by_class_name('_6lAjh').text\n",
    "                    #좋아요 개수\n",
    "                    like = collect_driver.find_element_by_class_name('Nm9Fw').text\n",
    "                    like_count = like.split(' ')[1]\n",
    "                    #게시글 생성날짜\n",
    "                    post_date = collect_soup.find('time',{'class':'_1o9PC Nzb55'}).get('datetime')             \n",
    "                    #해시태그\n",
    "                    tag_source = collect_soup.find_all('meta',{'property':'instapp:hashtags'})\n",
    "                    tag_list = []\n",
    "                    for j in range(len(tag_source)):\n",
    "                        tag_list.append(tag_source[j].get('content'))\n",
    "                    tag_string = \"|\".join(tag_list)\n",
    "                    #댓글\n",
    "                    comment_list = []\n",
    "                    comment_source = collect_soup.find_all('div',{'class':'C4VMK'})\n",
    "                    for k in range(1,len(comment_source)):\n",
    "                        comment = comment_source[k].find('span').text\n",
    "                        comment = comment.replace(\"'\",\";\")\n",
    "                        c_id = comment_source[k].find('a').text\n",
    "                        comment_list.append([comment,c_id])\n",
    "                    #텍스트 본문\n",
    "                    text_source = collect_soup.find('div',{'class':'C4VMK'})\n",
    "                    text = text_source.find('span').text\n",
    "                    text = text.replace(\"'\",\";\")\n",
    "\n",
    "                    #여러개 이미지 가져오기\n",
    "                    img = collect_soup.find_all('div',{'class':'KL4Bh'})\n",
    "                    if img == []:\n",
    "                        continue\n",
    "                    img_list = []\n",
    "                    \n",
    "                    alt = img[0].find('img').get('alt')\n",
    "                    alt = alt.replace(\"'\",\";\")\n",
    "                    src = img[0].find('img').get('src')\n",
    "                    img_name = str(post_num)\n",
    "                    try:\n",
    "                            #폴더가 없으면 생성해서 저장 \n",
    "                        if not os.path.exists(directory):\n",
    "                            os.makedirs(directory)\n",
    "                        urllib.request.urlretrieve(src, directory + img_name +'.jpg')\n",
    "\n",
    "                    except HTTPError:\n",
    "                        print(i+1,\"번째 이미지 삭제됨\")\n",
    "                        continue\n",
    "                    img_list.append([str(post_num),alt])\n",
    "\n",
    "                    if post_num % 100 == 0:\n",
    "                        print(post_num)\n",
    "\n",
    "                    result.append([tag,img_list[0][0],text,tag_string])   \n",
    "\n",
    "                    post_num +=1\n",
    "\n",
    "                except NoSuchElementException:\n",
    "                    print(post_num,\"번째 페이지 삭제됨\")\n",
    "                    continue\n",
    "                \n",
    "            \n",
    "\n",
    "    driver.execute_script('arguments[0].scrollIntoView(true);',bottom)\n",
    "    time.sleep(3)\n",
    "    pagedown += 1\n",
    "\n",
    "#드라이버 종료\n",
    "driver.close()\n",
    "collect_driver.close()"
   ]
  },
  {
   "cell_type": "code",
   "execution_count": 137,
   "metadata": {},
   "outputs": [],
   "source": [
    "write_wb = Workbook()\n",
    "write_ws = write_wb.active\n",
    "for i in result:\n",
    "    write_ws.append(i)\n",
    "    \n",
    "write_wb.save('./우울.xlsx')"
   ]
  },
  {
   "cell_type": "code",
   "execution_count": null,
   "metadata": {},
   "outputs": [],
   "source": []
  }
 ],
 "metadata": {
  "kernelspec": {
   "display_name": "Python 3",
   "language": "python",
   "name": "python3"
  },
  "language_info": {
   "codemirror_mode": {
    "name": "ipython",
    "version": 3
   },
   "file_extension": ".py",
   "mimetype": "text/x-python",
   "name": "python",
   "nbconvert_exporter": "python",
   "pygments_lexer": "ipython3",
   "version": "3.6.5"
  }
 },
 "nbformat": 4,
 "nbformat_minor": 2
}
