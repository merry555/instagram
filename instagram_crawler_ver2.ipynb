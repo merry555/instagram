{
 "cells": [
  {
   "cell_type": "code",
   "execution_count": 1,
   "metadata": {},
   "outputs": [],
   "source": [
    "import time\n",
    "import urllib.request\n",
    "from urllib.request import urlopen\n",
    "import requests\n",
    "from selenium import webdriver\n",
    "from bs4 import BeautifulSoup\n",
    "import random\n",
    "from urllib.error import HTTPError\n",
    "from selenium.common.exceptions import NoSuchElementException\n",
    "import re\n",
    "import numpy as np\n",
    "from selenium.webdriver.chrome.options import Options\n",
    "from selenium.webdriver.common.keys import Keys\n",
    "import os\n",
    "from pyvirtualdisplay import Display\n",
    "from selenium.webdriver.support.ui import WebDriverWait\n",
    "\n",
    "from selenium.webdriver.common.by import By \n",
    "from selenium.webdriver.support.ui import WebDriverWait \n",
    "from selenium.webdriver.support import expected_conditions as EC \n",
    "\n",
    "import matplotlib.pyplot as plt\n",
    "import pandas as pd\n",
    "import sys\n",
    "import random"
   ]
  },
  {
   "cell_type": "code",
   "execution_count": 7,
   "metadata": {},
   "outputs": [
    {
     "name": "stdout",
     "output_type": "stream",
     "text": [
      "state : True\n",
      "state : True\n",
      "state : True\n",
      "state : True\n"
     ]
    },
    {
     "ename": "KeyboardInterrupt",
     "evalue": "",
     "output_type": "error",
     "traceback": [
      "\u001b[0;31m---------------------------------------------------------------------------\u001b[0m",
      "\u001b[0;31mKeyboardInterrupt\u001b[0m                         Traceback (most recent call last)",
      "\u001b[0;32m<ipython-input-7-47889772e401>\u001b[0m in \u001b[0;36m<module>\u001b[0;34m\u001b[0m\n\u001b[1;32m     48\u001b[0m \u001b[0;34m\u001b[0m\u001b[0m\n\u001b[1;32m     49\u001b[0m     \u001b[0;31m# Wait to load page\u001b[0m\u001b[0;34m\u001b[0m\u001b[0;34m\u001b[0m\u001b[0m\n\u001b[0;32m---> 50\u001b[0;31m     \u001b[0mtime\u001b[0m\u001b[0;34m.\u001b[0m\u001b[0msleep\u001b[0m\u001b[0;34m(\u001b[0m\u001b[0;36m2\u001b[0m\u001b[0;34m)\u001b[0m\u001b[0;34m\u001b[0m\u001b[0m\n\u001b[0m\u001b[1;32m     51\u001b[0m \u001b[0;34m\u001b[0m\u001b[0m\n\u001b[1;32m     52\u001b[0m     \u001b[0;31m# Calculate new scroll height and compare with last scroll height\u001b[0m\u001b[0;34m\u001b[0m\u001b[0;34m\u001b[0m\u001b[0m\n",
      "\u001b[0;31mKeyboardInterrupt\u001b[0m: "
     ]
    }
   ],
   "source": [
    "tag = 'parasitemovie'\n",
    "\n",
    "#display = Display(visible=0)\n",
    "#display.start()\n",
    "\n",
    "\n",
    "#options = Options()\n",
    "# chrome을 전체화면으로 넓히는 옵션입니다.\n",
    "#options.add_argument('--start-fullscreen')\n",
    "\n",
    "#display = Display(visible=0, size=(1024,768))\n",
    "#sdisplay.start()\n",
    "username = \"en_diary0121\"\n",
    "password = \"csoutsiders0908\"\n",
    "\n",
    "driver = webdriver.Chrome(executable_path='./chromedriver')\n",
    "getdriver = (\"https://www.instagram.com/accounts/login/\")\n",
    "driver.get(getdriver)\n",
    "\n",
    "time.sleep(2)\n",
    "\n",
    "id_input = driver.find_elements_by_css_selector('#react-root > section > main > div > article > div > div > div > form > div > div > label > input')[0]\n",
    "id_input.send_keys(username)\n",
    "password_input = driver.find_elements_by_css_selector('#react-root > section > main > div > article > div > div > div > form > div > div > label > input')[1]\n",
    "password_input.send_keys(password)\n",
    "\n",
    "password_input.submit()\n",
    "\n",
    "time.sleep(3)\n",
    "\n",
    "chrome_options = Options()\n",
    "\n",
    "driver.get('https://www.instagram.com/explore/tags/'+tag+'/')\n",
    "\n",
    "time.sleep(3)\n",
    "\n",
    "# driver.find_element_by_css_selector('div.v1Nh3.kIKUG._bz0w').click()\n",
    "\n",
    "# Get scroll height\n",
    "last_height = driver.execute_script(\"return document.body.scrollHeight\")\n",
    "link_list = []\n",
    "\n",
    "state = True\n",
    "\n",
    "while True:\n",
    "    # Scroll down to bottom\n",
    "    driver.execute_script(\"window.scrollTo(0, document.body.scrollHeight);\")\n",
    "\n",
    "    # Wait to load page\n",
    "    time.sleep(2) \n",
    "\n",
    "    # Calculate new scroll height and compare with last scroll height\n",
    "    new_height = driver.execute_script(\"return document.body.scrollHeight\")\n",
    "    \n",
    "    try:\n",
    "        driver.findElement(By.cssSelector(\"//a[@href='/p/B-cPGIlpPYw/']\")).click();    \n",
    "        state = False\n",
    "        print(\"state : False\")\n",
    "    except:\n",
    "        print(\"state : True\")\n",
    "        state = True\n",
    "\n",
    "    last_height = new_height\n",
    "    \n",
    "    if state is False:\n",
    "        break"
   ]
  },
  {
   "cell_type": "code",
   "execution_count": null,
   "metadata": {},
   "outputs": [],
   "source": []
  }
 ],
 "metadata": {
  "kernelspec": {
   "display_name": "Python 3",
   "language": "python",
   "name": "python3"
  },
  "language_info": {
   "codemirror_mode": {
    "name": "ipython",
    "version": 3
   },
   "file_extension": ".py",
   "mimetype": "text/x-python",
   "name": "python",
   "nbconvert_exporter": "python",
   "pygments_lexer": "ipython3",
   "version": "3.6.5"
  }
 },
 "nbformat": 4,
 "nbformat_minor": 2
}
